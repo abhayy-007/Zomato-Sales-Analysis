{
 "cells": [
  {
   "cell_type": "code",
   "execution_count": 37,
   "id": "0b35db25-f638-4149-9a06-a564eb66f6ab",
   "metadata": {},
   "outputs": [],
   "source": [
    "import pandas as pd\n",
    "import numpy as np\n",
    "import matplotlib.pyplot as plt\n",
    "import seaborn as sns"
   ]
  },
  {
   "cell_type": "markdown",
   "id": "819d4419-9477-416d-af37-41e1f5cfbb3c",
   "metadata": {},
   "source": [
    "Reading CSV"
   ]
  },
  {
   "cell_type": "code",
   "execution_count": 38,
   "id": "e6b985a1-5550-43bf-8e00-c56c6798343e",
   "metadata": {},
   "outputs": [
    {
     "data": {
      "text/html": [
       "<div>\n",
       "<style scoped>\n",
       "    .dataframe tbody tr th:only-of-type {\n",
       "        vertical-align: middle;\n",
       "    }\n",
       "\n",
       "    .dataframe tbody tr th {\n",
       "        vertical-align: top;\n",
       "    }\n",
       "\n",
       "    .dataframe thead th {\n",
       "        text-align: right;\n",
       "    }\n",
       "</style>\n",
       "<table border=\"1\" class=\"dataframe\">\n",
       "  <thead>\n",
       "    <tr style=\"text-align: right;\">\n",
       "      <th></th>\n",
       "      <th>url</th>\n",
       "      <th>address</th>\n",
       "      <th>name</th>\n",
       "      <th>online_order</th>\n",
       "      <th>book_table</th>\n",
       "      <th>rate</th>\n",
       "      <th>votes</th>\n",
       "      <th>phone</th>\n",
       "      <th>location</th>\n",
       "      <th>rest_type</th>\n",
       "      <th>dish_liked</th>\n",
       "      <th>cuisines</th>\n",
       "      <th>approx_cost(for two people)</th>\n",
       "      <th>reviews_list</th>\n",
       "      <th>menu_item</th>\n",
       "      <th>listed_in(type)</th>\n",
       "      <th>listed_in(city)</th>\n",
       "    </tr>\n",
       "  </thead>\n",
       "  <tbody>\n",
       "    <tr>\n",
       "      <th>0</th>\n",
       "      <td>https://www.zomato.com/bangalore/spice-elephan...</td>\n",
       "      <td>2nd Floor, 80 Feet Road, Near Big Bazaar, 6th ...</td>\n",
       "      <td>Spice Elephant</td>\n",
       "      <td>Yes</td>\n",
       "      <td>No</td>\n",
       "      <td>4.1/5</td>\n",
       "      <td>787</td>\n",
       "      <td>080 41714161</td>\n",
       "      <td>Banashankari</td>\n",
       "      <td>Casual Dining</td>\n",
       "      <td>Momos, Lunch Buffet, Chocolate Nirvana, Thai G...</td>\n",
       "      <td>Chinese, North Indian, Thai</td>\n",
       "      <td>800</td>\n",
       "      <td>[('Rated 4.0', 'RATED\\n  Had been here for din...</td>\n",
       "      <td>[]</td>\n",
       "      <td>Buffet</td>\n",
       "      <td>Banashankari</td>\n",
       "    </tr>\n",
       "    <tr>\n",
       "      <th>1</th>\n",
       "      <td>https://www.zomato.com/SanchurroBangalore?cont...</td>\n",
       "      <td>1112, Next to KIMS Medical College, 17th Cross...</td>\n",
       "      <td>San Churro Cafe</td>\n",
       "      <td>Yes</td>\n",
       "      <td>No</td>\n",
       "      <td>3.8/5</td>\n",
       "      <td>918</td>\n",
       "      <td>+91 9663487993</td>\n",
       "      <td>Banashankari</td>\n",
       "      <td>Cafe, Casual Dining</td>\n",
       "      <td>Churros, Cannelloni, Minestrone Soup, Hot Choc...</td>\n",
       "      <td>Cafe, Mexican, Italian</td>\n",
       "      <td>800</td>\n",
       "      <td>[('Rated 3.0', \"RATED\\n  Ambience is not that ...</td>\n",
       "      <td>[]</td>\n",
       "      <td>Buffet</td>\n",
       "      <td>Banashankari</td>\n",
       "    </tr>\n",
       "    <tr>\n",
       "      <th>2</th>\n",
       "      <td>https://www.zomato.com/bangalore/addhuri-udupi...</td>\n",
       "      <td>1st Floor, Annakuteera, 3rd Stage, Banashankar...</td>\n",
       "      <td>Addhuri Udupi Bhojana</td>\n",
       "      <td>No</td>\n",
       "      <td>No</td>\n",
       "      <td>3.7/5</td>\n",
       "      <td>88</td>\n",
       "      <td>+91 9620009302</td>\n",
       "      <td>Banashankari</td>\n",
       "      <td>Quick Bites</td>\n",
       "      <td>Masala Dosa</td>\n",
       "      <td>South Indian, North Indian</td>\n",
       "      <td>300</td>\n",
       "      <td>[('Rated 4.0', \"RATED\\n  Great food and proper...</td>\n",
       "      <td>[]</td>\n",
       "      <td>Buffet</td>\n",
       "      <td>Banashankari</td>\n",
       "    </tr>\n",
       "    <tr>\n",
       "      <th>3</th>\n",
       "      <td>https://www.zomato.com/bangalore/cafe-shuffle-...</td>\n",
       "      <td>941, 3rd FLOOR, 21st Main, 22nd Cross, Banasha...</td>\n",
       "      <td>Cafe Shuffle</td>\n",
       "      <td>Yes</td>\n",
       "      <td>Yes</td>\n",
       "      <td>4.2/5</td>\n",
       "      <td>150</td>\n",
       "      <td>+91 9742166777</td>\n",
       "      <td>Banashankari</td>\n",
       "      <td>Cafe</td>\n",
       "      <td>Mocktails, Peri Fries, Lasagne, Pizza, Chicken...</td>\n",
       "      <td>Cafe, Italian, Continental</td>\n",
       "      <td>600</td>\n",
       "      <td>[('Rated 1.0', \"RATED\\n \\n\\nHorrible. Not even...</td>\n",
       "      <td>[]</td>\n",
       "      <td>Cafes</td>\n",
       "      <td>Banashankari</td>\n",
       "    </tr>\n",
       "    <tr>\n",
       "      <th>4</th>\n",
       "      <td>https://www.zomato.com/bangalore/the-coffee-sh...</td>\n",
       "      <td>6th Block, 3rd Stage, Banashankari, Bangalore</td>\n",
       "      <td>The Coffee Shack</td>\n",
       "      <td>Yes</td>\n",
       "      <td>Yes</td>\n",
       "      <td>4.2/5</td>\n",
       "      <td>164</td>\n",
       "      <td>+91 9731644212</td>\n",
       "      <td>Banashankari</td>\n",
       "      <td>Cafe</td>\n",
       "      <td>Coffee, Spaghetti, Pancakes, Nachos, Pasta, Sa...</td>\n",
       "      <td>Cafe, Chinese, Continental, Italian</td>\n",
       "      <td>500</td>\n",
       "      <td>[('Rated 4.0', \"RATED\\n  Food - 4/5\\nAmbience ...</td>\n",
       "      <td>[]</td>\n",
       "      <td>Cafes</td>\n",
       "      <td>Banashankari</td>\n",
       "    </tr>\n",
       "  </tbody>\n",
       "</table>\n",
       "</div>"
      ],
      "text/plain": [
       "                                                 url  \\\n",
       "0  https://www.zomato.com/bangalore/spice-elephan...   \n",
       "1  https://www.zomato.com/SanchurroBangalore?cont...   \n",
       "2  https://www.zomato.com/bangalore/addhuri-udupi...   \n",
       "3  https://www.zomato.com/bangalore/cafe-shuffle-...   \n",
       "4  https://www.zomato.com/bangalore/the-coffee-sh...   \n",
       "\n",
       "                                             address                   name  \\\n",
       "0  2nd Floor, 80 Feet Road, Near Big Bazaar, 6th ...         Spice Elephant   \n",
       "1  1112, Next to KIMS Medical College, 17th Cross...        San Churro Cafe   \n",
       "2  1st Floor, Annakuteera, 3rd Stage, Banashankar...  Addhuri Udupi Bhojana   \n",
       "3  941, 3rd FLOOR, 21st Main, 22nd Cross, Banasha...           Cafe Shuffle   \n",
       "4      6th Block, 3rd Stage, Banashankari, Bangalore       The Coffee Shack   \n",
       "\n",
       "  online_order book_table   rate  votes           phone      location  \\\n",
       "0          Yes         No  4.1/5    787    080 41714161  Banashankari   \n",
       "1          Yes         No  3.8/5    918  +91 9663487993  Banashankari   \n",
       "2           No         No  3.7/5     88  +91 9620009302  Banashankari   \n",
       "3          Yes        Yes  4.2/5    150  +91 9742166777  Banashankari   \n",
       "4          Yes        Yes  4.2/5    164  +91 9731644212  Banashankari   \n",
       "\n",
       "             rest_type                                         dish_liked  \\\n",
       "0        Casual Dining  Momos, Lunch Buffet, Chocolate Nirvana, Thai G...   \n",
       "1  Cafe, Casual Dining  Churros, Cannelloni, Minestrone Soup, Hot Choc...   \n",
       "2          Quick Bites                                        Masala Dosa   \n",
       "3                 Cafe  Mocktails, Peri Fries, Lasagne, Pizza, Chicken...   \n",
       "4                 Cafe  Coffee, Spaghetti, Pancakes, Nachos, Pasta, Sa...   \n",
       "\n",
       "                              cuisines approx_cost(for two people)  \\\n",
       "0          Chinese, North Indian, Thai                         800   \n",
       "1               Cafe, Mexican, Italian                         800   \n",
       "2           South Indian, North Indian                         300   \n",
       "3           Cafe, Italian, Continental                         600   \n",
       "4  Cafe, Chinese, Continental, Italian                         500   \n",
       "\n",
       "                                        reviews_list menu_item  \\\n",
       "0  [('Rated 4.0', 'RATED\\n  Had been here for din...        []   \n",
       "1  [('Rated 3.0', \"RATED\\n  Ambience is not that ...        []   \n",
       "2  [('Rated 4.0', \"RATED\\n  Great food and proper...        []   \n",
       "3  [('Rated 1.0', \"RATED\\n \\n\\nHorrible. Not even...        []   \n",
       "4  [('Rated 4.0', \"RATED\\n  Food - 4/5\\nAmbience ...        []   \n",
       "\n",
       "  listed_in(type) listed_in(city)  \n",
       "0          Buffet    Banashankari  \n",
       "1          Buffet    Banashankari  \n",
       "2          Buffet    Banashankari  \n",
       "3           Cafes    Banashankari  \n",
       "4           Cafes    Banashankari  "
      ]
     },
     "execution_count": 38,
     "metadata": {},
     "output_type": "execute_result"
    }
   ],
   "source": [
    "clean_lines = []\n",
    "with open(\"zomato.csv\", \"r\", encoding=\"utf-8\") as f:\n",
    "    for line in f:\n",
    "        if line.count('\"') % 2 == 0:\n",
    "            clean_lines.append(line)  # Line has balanced quotes\n",
    "\n",
    "# Save the cleaned file\n",
    "with open(\"zomato_clean.csv\", \"w\", encoding=\"utf-8\") as f:\n",
    "    f.writelines(clean_lines)\n",
    "\n",
    "# Load the cleaned file\n",
    "df = pd.read_csv(\"zomato_clean.csv\")\n",
    "df.head()\n"
   ]
  },
  {
   "cell_type": "code",
   "execution_count": 39,
   "id": "87e1f0ba-bb25-47f8-8418-cf7b23c6529b",
   "metadata": {},
   "outputs": [
    {
     "data": {
      "text/plain": [
       "(113, 17)"
      ]
     },
     "execution_count": 39,
     "metadata": {},
     "output_type": "execute_result"
    }
   ],
   "source": [
    "df.shape"
   ]
  },
  {
   "cell_type": "code",
   "execution_count": 40,
   "id": "ffa02c88-9041-44ba-a94f-a6812d60fe96",
   "metadata": {},
   "outputs": [
    {
     "data": {
      "text/plain": [
       "Index(['url', 'address', 'name', 'online_order', 'book_table', 'rate', 'votes',\n",
       "       'phone', 'location', 'rest_type', 'dish_liked', 'cuisines',\n",
       "       'approx_cost(for two people)', 'reviews_list', 'menu_item',\n",
       "       'listed_in(type)', 'listed_in(city)'],\n",
       "      dtype='object')"
      ]
     },
     "execution_count": 40,
     "metadata": {},
     "output_type": "execute_result"
    }
   ],
   "source": [
    "df.columns"
   ]
  },
  {
   "cell_type": "code",
   "execution_count": 41,
   "id": "084583d8-b8f5-45a0-836d-cdd37623bf21",
   "metadata": {},
   "outputs": [
    {
     "data": {
      "text/html": [
       "<div>\n",
       "<style scoped>\n",
       "    .dataframe tbody tr th:only-of-type {\n",
       "        vertical-align: middle;\n",
       "    }\n",
       "\n",
       "    .dataframe tbody tr th {\n",
       "        vertical-align: top;\n",
       "    }\n",
       "\n",
       "    .dataframe thead th {\n",
       "        text-align: right;\n",
       "    }\n",
       "</style>\n",
       "<table border=\"1\" class=\"dataframe\">\n",
       "  <thead>\n",
       "    <tr style=\"text-align: right;\">\n",
       "      <th></th>\n",
       "      <th>name</th>\n",
       "      <th>online_order</th>\n",
       "      <th>book_table</th>\n",
       "      <th>rate</th>\n",
       "      <th>votes</th>\n",
       "      <th>location</th>\n",
       "      <th>rest_type</th>\n",
       "      <th>cuisines</th>\n",
       "      <th>approx_cost(for two people)</th>\n",
       "      <th>listed_in(type)</th>\n",
       "      <th>listed_in(city)</th>\n",
       "    </tr>\n",
       "  </thead>\n",
       "  <tbody>\n",
       "    <tr>\n",
       "      <th>0</th>\n",
       "      <td>Spice Elephant</td>\n",
       "      <td>Yes</td>\n",
       "      <td>No</td>\n",
       "      <td>4.1/5</td>\n",
       "      <td>787</td>\n",
       "      <td>Banashankari</td>\n",
       "      <td>Casual Dining</td>\n",
       "      <td>Chinese, North Indian, Thai</td>\n",
       "      <td>800</td>\n",
       "      <td>Buffet</td>\n",
       "      <td>Banashankari</td>\n",
       "    </tr>\n",
       "    <tr>\n",
       "      <th>1</th>\n",
       "      <td>San Churro Cafe</td>\n",
       "      <td>Yes</td>\n",
       "      <td>No</td>\n",
       "      <td>3.8/5</td>\n",
       "      <td>918</td>\n",
       "      <td>Banashankari</td>\n",
       "      <td>Cafe, Casual Dining</td>\n",
       "      <td>Cafe, Mexican, Italian</td>\n",
       "      <td>800</td>\n",
       "      <td>Buffet</td>\n",
       "      <td>Banashankari</td>\n",
       "    </tr>\n",
       "    <tr>\n",
       "      <th>2</th>\n",
       "      <td>Addhuri Udupi Bhojana</td>\n",
       "      <td>No</td>\n",
       "      <td>No</td>\n",
       "      <td>3.7/5</td>\n",
       "      <td>88</td>\n",
       "      <td>Banashankari</td>\n",
       "      <td>Quick Bites</td>\n",
       "      <td>South Indian, North Indian</td>\n",
       "      <td>300</td>\n",
       "      <td>Buffet</td>\n",
       "      <td>Banashankari</td>\n",
       "    </tr>\n",
       "    <tr>\n",
       "      <th>3</th>\n",
       "      <td>Cafe Shuffle</td>\n",
       "      <td>Yes</td>\n",
       "      <td>Yes</td>\n",
       "      <td>4.2/5</td>\n",
       "      <td>150</td>\n",
       "      <td>Banashankari</td>\n",
       "      <td>Cafe</td>\n",
       "      <td>Cafe, Italian, Continental</td>\n",
       "      <td>600</td>\n",
       "      <td>Cafes</td>\n",
       "      <td>Banashankari</td>\n",
       "    </tr>\n",
       "    <tr>\n",
       "      <th>4</th>\n",
       "      <td>The Coffee Shack</td>\n",
       "      <td>Yes</td>\n",
       "      <td>Yes</td>\n",
       "      <td>4.2/5</td>\n",
       "      <td>164</td>\n",
       "      <td>Banashankari</td>\n",
       "      <td>Cafe</td>\n",
       "      <td>Cafe, Chinese, Continental, Italian</td>\n",
       "      <td>500</td>\n",
       "      <td>Cafes</td>\n",
       "      <td>Banashankari</td>\n",
       "    </tr>\n",
       "  </tbody>\n",
       "</table>\n",
       "</div>"
      ],
      "text/plain": [
       "                    name online_order book_table   rate  votes      location  \\\n",
       "0         Spice Elephant          Yes         No  4.1/5    787  Banashankari   \n",
       "1        San Churro Cafe          Yes         No  3.8/5    918  Banashankari   \n",
       "2  Addhuri Udupi Bhojana           No         No  3.7/5     88  Banashankari   \n",
       "3           Cafe Shuffle          Yes        Yes  4.2/5    150  Banashankari   \n",
       "4       The Coffee Shack          Yes        Yes  4.2/5    164  Banashankari   \n",
       "\n",
       "             rest_type                             cuisines  \\\n",
       "0        Casual Dining          Chinese, North Indian, Thai   \n",
       "1  Cafe, Casual Dining               Cafe, Mexican, Italian   \n",
       "2          Quick Bites           South Indian, North Indian   \n",
       "3                 Cafe           Cafe, Italian, Continental   \n",
       "4                 Cafe  Cafe, Chinese, Continental, Italian   \n",
       "\n",
       "  approx_cost(for two people) listed_in(type) listed_in(city)  \n",
       "0                         800          Buffet    Banashankari  \n",
       "1                         800          Buffet    Banashankari  \n",
       "2                         300          Buffet    Banashankari  \n",
       "3                         600           Cafes    Banashankari  \n",
       "4                         500           Cafes    Banashankari  "
      ]
     },
     "execution_count": 41,
     "metadata": {},
     "output_type": "execute_result"
    }
   ],
   "source": [
    "df = df.drop(['url', 'address', 'phone', 'menu_item', 'dish_liked', 'reviews_list'], axis = 1)\n",
    "df.head()"
   ]
  },
  {
   "cell_type": "code",
   "execution_count": 42,
   "id": "ec7c9a0f-7b8c-473f-9bb1-005ccc44e678",
   "metadata": {},
   "outputs": [
    {
     "name": "stdout",
     "output_type": "stream",
     "text": [
      "<class 'pandas.core.frame.DataFrame'>\n",
      "RangeIndex: 113 entries, 0 to 112\n",
      "Data columns (total 11 columns):\n",
      " #   Column                       Non-Null Count  Dtype \n",
      "---  ------                       --------------  ----- \n",
      " 0   name                         113 non-null    object\n",
      " 1   online_order                 113 non-null    object\n",
      " 2   book_table                   113 non-null    object\n",
      " 3   rate                         94 non-null     object\n",
      " 4   votes                        113 non-null    int64 \n",
      " 5   location                     113 non-null    object\n",
      " 6   rest_type                    113 non-null    object\n",
      " 7   cuisines                     113 non-null    object\n",
      " 8   approx_cost(for two people)  113 non-null    object\n",
      " 9   listed_in(type)              113 non-null    object\n",
      " 10  listed_in(city)              113 non-null    object\n",
      "dtypes: int64(1), object(10)\n",
      "memory usage: 9.8+ KB\n"
     ]
    }
   ],
   "source": [
    "df.info()"
   ]
  },
  {
   "cell_type": "markdown",
   "id": "e55c401c-91ce-4ca0-8642-9c8f9806004d",
   "metadata": {},
   "source": [
    "Dropping Duplicates"
   ]
  },
  {
   "cell_type": "code",
   "execution_count": 43,
   "id": "55680c9c-5056-4202-85bd-c82a25492a6d",
   "metadata": {},
   "outputs": [
    {
     "data": {
      "text/plain": [
       "(113, 11)"
      ]
     },
     "execution_count": 43,
     "metadata": {},
     "output_type": "execute_result"
    }
   ],
   "source": [
    "df.drop_duplicates(inplace = True)\n",
    "df.shape"
   ]
  },
  {
   "cell_type": "markdown",
   "id": "2fe50aee-4bec-440c-80bb-deda27d79539",
   "metadata": {},
   "source": [
    "Cleaning Rate Column"
   ]
  },
  {
   "cell_type": "code",
   "execution_count": 44,
   "id": "00de5d5a-4468-4d6a-926a-8c7b42ccac79",
   "metadata": {},
   "outputs": [
    {
     "data": {
      "text/plain": [
       "array(['4.1/5', '3.8/5', '3.7/5', '4.2/5', '4.0/5', '3.9/5', '3.1/5',\n",
       "       '3.6/5', '3.2/5', '3.3/5', '2.8/5', '4.4/5', 'NEW', '2.9/5', nan,\n",
       "       '3.5/5', '3.4/5', '3.0/5'], dtype=object)"
      ]
     },
     "execution_count": 44,
     "metadata": {},
     "output_type": "execute_result"
    }
   ],
   "source": [
    "df['rate'].unique()"
   ]
  },
  {
   "cell_type": "markdown",
   "id": "bb9b2972-250e-4c66-a98e-2cf7e59bfb0f",
   "metadata": {},
   "source": [
    "Removing \"NEW\" , \"-\" and \"/5\" from Rate Column"
   ]
  },
  {
   "cell_type": "code",
   "execution_count": 45,
   "id": "f2e20d9b-e8af-4096-9091-8f2ee21ca329",
   "metadata": {},
   "outputs": [
    {
     "data": {
      "text/plain": [
       "0    4.1\n",
       "1    3.8\n",
       "2    3.7\n",
       "3    4.2\n",
       "4    4.2\n",
       "Name: rate, dtype: float64"
      ]
     },
     "execution_count": 45,
     "metadata": {},
     "output_type": "execute_result"
    }
   ],
   "source": [
    "def handlerate(value):\n",
    "    if(value=='NEW' or value=='-'):\n",
    "        return np.nan\n",
    "    else:\n",
    "        value = str(value).split('/')\n",
    "        value = value[0]\n",
    "        return float(value)\n",
    "    \n",
    "df['rate'] = df['rate'].apply(handlerate)\n",
    "df['rate'].head()"
   ]
  },
  {
   "cell_type": "markdown",
   "id": "681422ec-4646-491e-92a0-922ea25b8cac",
   "metadata": {},
   "source": [
    "Filling Null Values in Rate Column with Mean"
   ]
  },
  {
   "cell_type": "code",
   "execution_count": 46,
   "id": "cdcbba6a-ea59-454b-bd35-82541d07672e",
   "metadata": {},
   "outputs": [
    {
     "data": {
      "text/plain": [
       "0"
      ]
     },
     "execution_count": 46,
     "metadata": {},
     "output_type": "execute_result"
    }
   ],
   "source": [
    "df['rate'] = df['rate'].fillna(df['rate'].mean())\n",
    "df['rate'].isnull().sum()"
   ]
  },
  {
   "cell_type": "code",
   "execution_count": 47,
   "id": "47231279-13d1-444c-9771-595ef874c1d5",
   "metadata": {},
   "outputs": [
    {
     "name": "stdout",
     "output_type": "stream",
     "text": [
      "<class 'pandas.core.frame.DataFrame'>\n",
      "RangeIndex: 113 entries, 0 to 112\n",
      "Data columns (total 11 columns):\n",
      " #   Column                       Non-Null Count  Dtype  \n",
      "---  ------                       --------------  -----  \n",
      " 0   name                         113 non-null    object \n",
      " 1   online_order                 113 non-null    object \n",
      " 2   book_table                   113 non-null    object \n",
      " 3   rate                         113 non-null    float64\n",
      " 4   votes                        113 non-null    int64  \n",
      " 5   location                     113 non-null    object \n",
      " 6   rest_type                    113 non-null    object \n",
      " 7   cuisines                     113 non-null    object \n",
      " 8   approx_cost(for two people)  113 non-null    object \n",
      " 9   listed_in(type)              113 non-null    object \n",
      " 10  listed_in(city)              113 non-null    object \n",
      "dtypes: float64(1), int64(1), object(9)\n",
      "memory usage: 9.8+ KB\n"
     ]
    }
   ],
   "source": [
    "df.info()"
   ]
  },
  {
   "cell_type": "markdown",
   "id": "fd22430d-6828-4515-9f23-c4f4598e6e68",
   "metadata": {},
   "source": [
    "Dropping Null Values"
   ]
  },
  {
   "cell_type": "code",
   "execution_count": 48,
   "id": "9458ebd1-c9d8-49b5-b9d1-eca30b98d27f",
   "metadata": {},
   "outputs": [
    {
     "data": {
      "text/html": [
       "<div>\n",
       "<style scoped>\n",
       "    .dataframe tbody tr th:only-of-type {\n",
       "        vertical-align: middle;\n",
       "    }\n",
       "\n",
       "    .dataframe tbody tr th {\n",
       "        vertical-align: top;\n",
       "    }\n",
       "\n",
       "    .dataframe thead th {\n",
       "        text-align: right;\n",
       "    }\n",
       "</style>\n",
       "<table border=\"1\" class=\"dataframe\">\n",
       "  <thead>\n",
       "    <tr style=\"text-align: right;\">\n",
       "      <th></th>\n",
       "      <th>name</th>\n",
       "      <th>online_order</th>\n",
       "      <th>book_table</th>\n",
       "      <th>rate</th>\n",
       "      <th>votes</th>\n",
       "      <th>location</th>\n",
       "      <th>rest_type</th>\n",
       "      <th>cuisines</th>\n",
       "      <th>approx_cost(for two people)</th>\n",
       "      <th>listed_in(type)</th>\n",
       "      <th>listed_in(city)</th>\n",
       "    </tr>\n",
       "  </thead>\n",
       "  <tbody>\n",
       "    <tr>\n",
       "      <th>0</th>\n",
       "      <td>Spice Elephant</td>\n",
       "      <td>Yes</td>\n",
       "      <td>No</td>\n",
       "      <td>4.1</td>\n",
       "      <td>787</td>\n",
       "      <td>Banashankari</td>\n",
       "      <td>Casual Dining</td>\n",
       "      <td>Chinese, North Indian, Thai</td>\n",
       "      <td>800</td>\n",
       "      <td>Buffet</td>\n",
       "      <td>Banashankari</td>\n",
       "    </tr>\n",
       "    <tr>\n",
       "      <th>1</th>\n",
       "      <td>San Churro Cafe</td>\n",
       "      <td>Yes</td>\n",
       "      <td>No</td>\n",
       "      <td>3.8</td>\n",
       "      <td>918</td>\n",
       "      <td>Banashankari</td>\n",
       "      <td>Cafe, Casual Dining</td>\n",
       "      <td>Cafe, Mexican, Italian</td>\n",
       "      <td>800</td>\n",
       "      <td>Buffet</td>\n",
       "      <td>Banashankari</td>\n",
       "    </tr>\n",
       "    <tr>\n",
       "      <th>2</th>\n",
       "      <td>Addhuri Udupi Bhojana</td>\n",
       "      <td>No</td>\n",
       "      <td>No</td>\n",
       "      <td>3.7</td>\n",
       "      <td>88</td>\n",
       "      <td>Banashankari</td>\n",
       "      <td>Quick Bites</td>\n",
       "      <td>South Indian, North Indian</td>\n",
       "      <td>300</td>\n",
       "      <td>Buffet</td>\n",
       "      <td>Banashankari</td>\n",
       "    </tr>\n",
       "    <tr>\n",
       "      <th>3</th>\n",
       "      <td>Cafe Shuffle</td>\n",
       "      <td>Yes</td>\n",
       "      <td>Yes</td>\n",
       "      <td>4.2</td>\n",
       "      <td>150</td>\n",
       "      <td>Banashankari</td>\n",
       "      <td>Cafe</td>\n",
       "      <td>Cafe, Italian, Continental</td>\n",
       "      <td>600</td>\n",
       "      <td>Cafes</td>\n",
       "      <td>Banashankari</td>\n",
       "    </tr>\n",
       "    <tr>\n",
       "      <th>4</th>\n",
       "      <td>The Coffee Shack</td>\n",
       "      <td>Yes</td>\n",
       "      <td>Yes</td>\n",
       "      <td>4.2</td>\n",
       "      <td>164</td>\n",
       "      <td>Banashankari</td>\n",
       "      <td>Cafe</td>\n",
       "      <td>Cafe, Chinese, Continental, Italian</td>\n",
       "      <td>500</td>\n",
       "      <td>Cafes</td>\n",
       "      <td>Banashankari</td>\n",
       "    </tr>\n",
       "  </tbody>\n",
       "</table>\n",
       "</div>"
      ],
      "text/plain": [
       "                    name online_order book_table  rate  votes      location  \\\n",
       "0         Spice Elephant          Yes         No   4.1    787  Banashankari   \n",
       "1        San Churro Cafe          Yes         No   3.8    918  Banashankari   \n",
       "2  Addhuri Udupi Bhojana           No         No   3.7     88  Banashankari   \n",
       "3           Cafe Shuffle          Yes        Yes   4.2    150  Banashankari   \n",
       "4       The Coffee Shack          Yes        Yes   4.2    164  Banashankari   \n",
       "\n",
       "             rest_type                             cuisines  \\\n",
       "0        Casual Dining          Chinese, North Indian, Thai   \n",
       "1  Cafe, Casual Dining               Cafe, Mexican, Italian   \n",
       "2          Quick Bites           South Indian, North Indian   \n",
       "3                 Cafe           Cafe, Italian, Continental   \n",
       "4                 Cafe  Cafe, Chinese, Continental, Italian   \n",
       "\n",
       "  approx_cost(for two people) listed_in(type) listed_in(city)  \n",
       "0                         800          Buffet    Banashankari  \n",
       "1                         800          Buffet    Banashankari  \n",
       "2                         300          Buffet    Banashankari  \n",
       "3                         600           Cafes    Banashankari  \n",
       "4                         500           Cafes    Banashankari  "
      ]
     },
     "execution_count": 48,
     "metadata": {},
     "output_type": "execute_result"
    }
   ],
   "source": [
    "df.dropna(inplace = True)\n",
    "df.head()"
   ]
  },
  {
   "cell_type": "code",
   "execution_count": 49,
   "id": "0120e535-8dc8-4d4c-b94a-ffcfce7843b5",
   "metadata": {},
   "outputs": [
    {
     "data": {
      "text/html": [
       "<div>\n",
       "<style scoped>\n",
       "    .dataframe tbody tr th:only-of-type {\n",
       "        vertical-align: middle;\n",
       "    }\n",
       "\n",
       "    .dataframe tbody tr th {\n",
       "        vertical-align: top;\n",
       "    }\n",
       "\n",
       "    .dataframe thead th {\n",
       "        text-align: right;\n",
       "    }\n",
       "</style>\n",
       "<table border=\"1\" class=\"dataframe\">\n",
       "  <thead>\n",
       "    <tr style=\"text-align: right;\">\n",
       "      <th></th>\n",
       "      <th>name</th>\n",
       "      <th>online_order</th>\n",
       "      <th>book_table</th>\n",
       "      <th>rate</th>\n",
       "      <th>votes</th>\n",
       "      <th>location</th>\n",
       "      <th>rest_type</th>\n",
       "      <th>cuisines</th>\n",
       "      <th>Cost2plates</th>\n",
       "      <th>Type</th>\n",
       "      <th>listed_in(city)</th>\n",
       "    </tr>\n",
       "  </thead>\n",
       "  <tbody>\n",
       "    <tr>\n",
       "      <th>0</th>\n",
       "      <td>Spice Elephant</td>\n",
       "      <td>Yes</td>\n",
       "      <td>No</td>\n",
       "      <td>4.1</td>\n",
       "      <td>787</td>\n",
       "      <td>Banashankari</td>\n",
       "      <td>Casual Dining</td>\n",
       "      <td>Chinese, North Indian, Thai</td>\n",
       "      <td>800</td>\n",
       "      <td>Buffet</td>\n",
       "      <td>Banashankari</td>\n",
       "    </tr>\n",
       "    <tr>\n",
       "      <th>1</th>\n",
       "      <td>San Churro Cafe</td>\n",
       "      <td>Yes</td>\n",
       "      <td>No</td>\n",
       "      <td>3.8</td>\n",
       "      <td>918</td>\n",
       "      <td>Banashankari</td>\n",
       "      <td>Cafe, Casual Dining</td>\n",
       "      <td>Cafe, Mexican, Italian</td>\n",
       "      <td>800</td>\n",
       "      <td>Buffet</td>\n",
       "      <td>Banashankari</td>\n",
       "    </tr>\n",
       "    <tr>\n",
       "      <th>2</th>\n",
       "      <td>Addhuri Udupi Bhojana</td>\n",
       "      <td>No</td>\n",
       "      <td>No</td>\n",
       "      <td>3.7</td>\n",
       "      <td>88</td>\n",
       "      <td>Banashankari</td>\n",
       "      <td>Quick Bites</td>\n",
       "      <td>South Indian, North Indian</td>\n",
       "      <td>300</td>\n",
       "      <td>Buffet</td>\n",
       "      <td>Banashankari</td>\n",
       "    </tr>\n",
       "    <tr>\n",
       "      <th>3</th>\n",
       "      <td>Cafe Shuffle</td>\n",
       "      <td>Yes</td>\n",
       "      <td>Yes</td>\n",
       "      <td>4.2</td>\n",
       "      <td>150</td>\n",
       "      <td>Banashankari</td>\n",
       "      <td>Cafe</td>\n",
       "      <td>Cafe, Italian, Continental</td>\n",
       "      <td>600</td>\n",
       "      <td>Cafes</td>\n",
       "      <td>Banashankari</td>\n",
       "    </tr>\n",
       "    <tr>\n",
       "      <th>4</th>\n",
       "      <td>The Coffee Shack</td>\n",
       "      <td>Yes</td>\n",
       "      <td>Yes</td>\n",
       "      <td>4.2</td>\n",
       "      <td>164</td>\n",
       "      <td>Banashankari</td>\n",
       "      <td>Cafe</td>\n",
       "      <td>Cafe, Chinese, Continental, Italian</td>\n",
       "      <td>500</td>\n",
       "      <td>Cafes</td>\n",
       "      <td>Banashankari</td>\n",
       "    </tr>\n",
       "  </tbody>\n",
       "</table>\n",
       "</div>"
      ],
      "text/plain": [
       "                    name online_order book_table  rate  votes      location  \\\n",
       "0         Spice Elephant          Yes         No   4.1    787  Banashankari   \n",
       "1        San Churro Cafe          Yes         No   3.8    918  Banashankari   \n",
       "2  Addhuri Udupi Bhojana           No         No   3.7     88  Banashankari   \n",
       "3           Cafe Shuffle          Yes        Yes   4.2    150  Banashankari   \n",
       "4       The Coffee Shack          Yes        Yes   4.2    164  Banashankari   \n",
       "\n",
       "             rest_type                             cuisines Cost2plates  \\\n",
       "0        Casual Dining          Chinese, North Indian, Thai         800   \n",
       "1  Cafe, Casual Dining               Cafe, Mexican, Italian         800   \n",
       "2          Quick Bites           South Indian, North Indian         300   \n",
       "3                 Cafe           Cafe, Italian, Continental         600   \n",
       "4                 Cafe  Cafe, Chinese, Continental, Italian         500   \n",
       "\n",
       "     Type listed_in(city)  \n",
       "0  Buffet    Banashankari  \n",
       "1  Buffet    Banashankari  \n",
       "2  Buffet    Banashankari  \n",
       "3   Cafes    Banashankari  \n",
       "4   Cafes    Banashankari  "
      ]
     },
     "execution_count": 49,
     "metadata": {},
     "output_type": "execute_result"
    }
   ],
   "source": [
    "df.rename(columns = {'approx_cost(for two people)':'Cost2plates', 'listed_in(type)':'Type'}, inplace = True)\n",
    "df.head()"
   ]
  },
  {
   "cell_type": "code",
   "execution_count": 50,
   "id": "421a9895-d133-411a-810a-dc0546a7c164",
   "metadata": {},
   "outputs": [
    {
     "data": {
      "text/plain": [
       "array(['Banashankari', 'Basavanagudi', 'Jayanagar', 'Kumaraswamy Layout',\n",
       "       'Vijay Nagar'], dtype=object)"
      ]
     },
     "execution_count": 50,
     "metadata": {},
     "output_type": "execute_result"
    }
   ],
   "source": [
    "df['location'].unique()"
   ]
  },
  {
   "cell_type": "code",
   "execution_count": 51,
   "id": "b697822a-9d33-4056-b1db-18267609276f",
   "metadata": {},
   "outputs": [
    {
     "data": {
      "text/plain": [
       "array(['Banashankari'], dtype=object)"
      ]
     },
     "execution_count": 51,
     "metadata": {},
     "output_type": "execute_result"
    }
   ],
   "source": [
    "df['listed_in(city)'].unique()"
   ]
  },
  {
   "cell_type": "markdown",
   "id": "2d1e36ac-d368-4d92-89c5-78e3602e5637",
   "metadata": {},
   "source": [
    "Listed in(city) and location, both are there, lets keep only one."
   ]
  },
  {
   "cell_type": "code",
   "execution_count": 52,
   "id": "1994e512-ebf1-4c4b-b121-20175cbf69b2",
   "metadata": {},
   "outputs": [],
   "source": [
    "df = df.drop(['listed_in(city)'], axis = 1)"
   ]
  },
  {
   "cell_type": "code",
   "execution_count": 53,
   "id": "bbaa1965-4f8b-471e-9efb-907ac9d025b1",
   "metadata": {},
   "outputs": [
    {
     "data": {
      "text/plain": [
       "array(['800', '300', '600', '500', '450', '400', '900', '200', '550',\n",
       "       '750', '150', '100', '1,200', '700', '950', '250', '1,000', '350',\n",
       "       '650'], dtype=object)"
      ]
     },
     "execution_count": 53,
     "metadata": {},
     "output_type": "execute_result"
    }
   ],
   "source": [
    "df['Cost2plates'].unique()"
   ]
  },
  {
   "cell_type": "markdown",
   "id": "904ded7d-f8aa-46b0-bce8-9b240d34ae5f",
   "metadata": {},
   "source": [
    "Removing , from Cost2Plates Column"
   ]
  },
  {
   "cell_type": "code",
   "execution_count": 54,
   "id": "5095188b-b6ed-4511-ae36-906cfcad0b4a",
   "metadata": {},
   "outputs": [
    {
     "data": {
      "text/plain": [
       "array([ 800.,  300.,  600.,  500.,  450.,  400.,  900.,  200.,  550.,\n",
       "        750.,  150.,  100., 1200.,  700.,  950.,  250., 1000.,  350.,\n",
       "        650.])"
      ]
     },
     "execution_count": 54,
     "metadata": {},
     "output_type": "execute_result"
    }
   ],
   "source": [
    "def handlecomma(value):\n",
    "    value = str(value)\n",
    "    if ',' in value:\n",
    "        value = value.replace(',', '')\n",
    "        return float(value)\n",
    "    else:\n",
    "        return float(value)\n",
    "    \n",
    "df['Cost2plates'] = df['Cost2plates'].apply(handlecomma)\n",
    "df['Cost2plates'].unique()\n",
    "        "
   ]
  },
  {
   "cell_type": "code",
   "execution_count": 55,
   "id": "9199584e-0420-4a99-bbe6-7cdfadb8481a",
   "metadata": {},
   "outputs": [
    {
     "data": {
      "text/html": [
       "<div>\n",
       "<style scoped>\n",
       "    .dataframe tbody tr th:only-of-type {\n",
       "        vertical-align: middle;\n",
       "    }\n",
       "\n",
       "    .dataframe tbody tr th {\n",
       "        vertical-align: top;\n",
       "    }\n",
       "\n",
       "    .dataframe thead th {\n",
       "        text-align: right;\n",
       "    }\n",
       "</style>\n",
       "<table border=\"1\" class=\"dataframe\">\n",
       "  <thead>\n",
       "    <tr style=\"text-align: right;\">\n",
       "      <th></th>\n",
       "      <th>name</th>\n",
       "      <th>online_order</th>\n",
       "      <th>book_table</th>\n",
       "      <th>rate</th>\n",
       "      <th>votes</th>\n",
       "      <th>location</th>\n",
       "      <th>rest_type</th>\n",
       "      <th>cuisines</th>\n",
       "      <th>Cost2plates</th>\n",
       "      <th>Type</th>\n",
       "    </tr>\n",
       "  </thead>\n",
       "  <tbody>\n",
       "    <tr>\n",
       "      <th>0</th>\n",
       "      <td>Spice Elephant</td>\n",
       "      <td>Yes</td>\n",
       "      <td>No</td>\n",
       "      <td>4.1</td>\n",
       "      <td>787</td>\n",
       "      <td>Banashankari</td>\n",
       "      <td>Casual Dining</td>\n",
       "      <td>Chinese, North Indian, Thai</td>\n",
       "      <td>800.0</td>\n",
       "      <td>Buffet</td>\n",
       "    </tr>\n",
       "    <tr>\n",
       "      <th>1</th>\n",
       "      <td>San Churro Cafe</td>\n",
       "      <td>Yes</td>\n",
       "      <td>No</td>\n",
       "      <td>3.8</td>\n",
       "      <td>918</td>\n",
       "      <td>Banashankari</td>\n",
       "      <td>Cafe, Casual Dining</td>\n",
       "      <td>Cafe, Mexican, Italian</td>\n",
       "      <td>800.0</td>\n",
       "      <td>Buffet</td>\n",
       "    </tr>\n",
       "    <tr>\n",
       "      <th>2</th>\n",
       "      <td>Addhuri Udupi Bhojana</td>\n",
       "      <td>No</td>\n",
       "      <td>No</td>\n",
       "      <td>3.7</td>\n",
       "      <td>88</td>\n",
       "      <td>Banashankari</td>\n",
       "      <td>Quick Bites</td>\n",
       "      <td>South Indian, North Indian</td>\n",
       "      <td>300.0</td>\n",
       "      <td>Buffet</td>\n",
       "    </tr>\n",
       "    <tr>\n",
       "      <th>3</th>\n",
       "      <td>Cafe Shuffle</td>\n",
       "      <td>Yes</td>\n",
       "      <td>Yes</td>\n",
       "      <td>4.2</td>\n",
       "      <td>150</td>\n",
       "      <td>Banashankari</td>\n",
       "      <td>Cafe</td>\n",
       "      <td>Cafe, Italian, Continental</td>\n",
       "      <td>600.0</td>\n",
       "      <td>Cafes</td>\n",
       "    </tr>\n",
       "    <tr>\n",
       "      <th>4</th>\n",
       "      <td>The Coffee Shack</td>\n",
       "      <td>Yes</td>\n",
       "      <td>Yes</td>\n",
       "      <td>4.2</td>\n",
       "      <td>164</td>\n",
       "      <td>Banashankari</td>\n",
       "      <td>Cafe</td>\n",
       "      <td>Cafe, Chinese, Continental, Italian</td>\n",
       "      <td>500.0</td>\n",
       "      <td>Cafes</td>\n",
       "    </tr>\n",
       "  </tbody>\n",
       "</table>\n",
       "</div>"
      ],
      "text/plain": [
       "                    name online_order book_table  rate  votes      location  \\\n",
       "0         Spice Elephant          Yes         No   4.1    787  Banashankari   \n",
       "1        San Churro Cafe          Yes         No   3.8    918  Banashankari   \n",
       "2  Addhuri Udupi Bhojana           No         No   3.7     88  Banashankari   \n",
       "3           Cafe Shuffle          Yes        Yes   4.2    150  Banashankari   \n",
       "4       The Coffee Shack          Yes        Yes   4.2    164  Banashankari   \n",
       "\n",
       "             rest_type                             cuisines  Cost2plates  \\\n",
       "0        Casual Dining          Chinese, North Indian, Thai        800.0   \n",
       "1  Cafe, Casual Dining               Cafe, Mexican, Italian        800.0   \n",
       "2          Quick Bites           South Indian, North Indian        300.0   \n",
       "3                 Cafe           Cafe, Italian, Continental        600.0   \n",
       "4                 Cafe  Cafe, Chinese, Continental, Italian        500.0   \n",
       "\n",
       "     Type  \n",
       "0  Buffet  \n",
       "1  Buffet  \n",
       "2  Buffet  \n",
       "3   Cafes  \n",
       "4   Cafes  "
      ]
     },
     "execution_count": 55,
     "metadata": {},
     "output_type": "execute_result"
    }
   ],
   "source": [
    "df.head()"
   ]
  },
  {
   "cell_type": "markdown",
   "id": "c7559eaa-12eb-47e0-970c-2f682a1c1567",
   "metadata": {},
   "source": [
    "Cleaning Rest Type Column"
   ]
  },
  {
   "cell_type": "code",
   "execution_count": 56,
   "id": "35b08b0d-bdb8-460d-83c2-e353f4d570b2",
   "metadata": {},
   "outputs": [
    {
     "data": {
      "text/plain": [
       "rest_type\n",
       "Quick Bites                   47\n",
       "Cafe                          14\n",
       "Casual Dining                 10\n",
       "Takeaway, Delivery            10\n",
       "Delivery                       7\n",
       "Dessert Parlor                 7\n",
       "Bakery                         4\n",
       "Beverage Shop                  3\n",
       "Bar                            2\n",
       "Cafe, Casual Dining            2\n",
       "Confectionery                  1\n",
       "Beverage Shop, Quick Bites     1\n",
       "Pub                            1\n",
       "Mess                           1\n",
       "Bakery, Dessert Parlor         1\n",
       "Cafe, Quick Bites              1\n",
       "Quick Bites, Beverage Shop     1\n",
       "Name: count, dtype: int64"
      ]
     },
     "execution_count": 56,
     "metadata": {},
     "output_type": "execute_result"
    }
   ],
   "source": [
    "rest_types = df['rest_type'].value_counts(ascending  = False)\n",
    "rest_types"
   ]
  },
  {
   "cell_type": "code",
   "execution_count": 57,
   "id": "3b0dfcf7-b8da-425f-8103-63e8374da381",
   "metadata": {},
   "outputs": [
    {
     "data": {
      "text/plain": [
       "rest_type\n",
       "Quick Bites                   47\n",
       "Cafe                          14\n",
       "Casual Dining                 10\n",
       "Takeaway, Delivery            10\n",
       "Delivery                       7\n",
       "Dessert Parlor                 7\n",
       "Bakery                         4\n",
       "Beverage Shop                  3\n",
       "Bar                            2\n",
       "Cafe, Casual Dining            2\n",
       "Confectionery                  1\n",
       "Beverage Shop, Quick Bites     1\n",
       "Pub                            1\n",
       "Mess                           1\n",
       "Bakery, Dessert Parlor         1\n",
       "Cafe, Quick Bites              1\n",
       "Quick Bites, Beverage Shop     1\n",
       "Name: count, dtype: int64"
      ]
     },
     "execution_count": 57,
     "metadata": {},
     "output_type": "execute_result"
    }
   ],
   "source": [
    "rest_types_lessthan1000 = rest_types[rest_types<1000]\n",
    "rest_types_lessthan1000"
   ]
  },
  {
   "cell_type": "markdown",
   "id": "12cc75b3-1723-4623-a724-7cee1303dcae",
   "metadata": {},
   "source": [
    "Making Rest Types less than 1000 in frequency as others"
   ]
  },
  {
   "cell_type": "code",
   "execution_count": 58,
   "id": "44ed17a1-93dc-4a6a-9f9a-a5ed8930d8b1",
   "metadata": {},
   "outputs": [
    {
     "data": {
      "text/plain": [
       "rest_type\n",
       "others    113\n",
       "Name: count, dtype: int64"
      ]
     },
     "execution_count": 58,
     "metadata": {},
     "output_type": "execute_result"
    }
   ],
   "source": [
    "def handle_rest_type(value):\n",
    "    if(value in rest_types_lessthan1000):\n",
    "        return 'others'\n",
    "    else:\n",
    "        return value\n",
    "        \n",
    "df['rest_type'] = df['rest_type'].apply(handle_rest_type)\n",
    "df['rest_type'].value_counts()\n",
    "        "
   ]
  },
  {
   "cell_type": "markdown",
   "id": "37fe3e42-a1f8-4483-abdc-3e486e19f44a",
   "metadata": {},
   "source": [
    "Cleaning Location Column"
   ]
  },
  {
   "cell_type": "code",
   "execution_count": 59,
   "id": "87eb0cc8-15cb-43ff-adcc-a61df8757b5c",
   "metadata": {},
   "outputs": [
    {
     "data": {
      "text/plain": [
       "location\n",
       "others    113\n",
       "Name: count, dtype: int64"
      ]
     },
     "execution_count": 59,
     "metadata": {},
     "output_type": "execute_result"
    }
   ],
   "source": [
    "location = df['location'].value_counts(ascending  = False)\n",
    "\n",
    "location_lessthan300 = location[location<300]\n",
    "\n",
    "\n",
    "\n",
    "def handle_location(value):\n",
    "    if(value in location_lessthan300):\n",
    "        return 'others'\n",
    "    else:\n",
    "        return value\n",
    "        \n",
    "df['location'] = df['location'].apply(handle_location)\n",
    "df['location'].value_counts()"
   ]
  },
  {
   "cell_type": "markdown",
   "id": "9fb9623c-068e-4083-b436-44128a5c87ea",
   "metadata": {},
   "source": [
    "Cleaning Cuisines Column"
   ]
  },
  {
   "cell_type": "code",
   "execution_count": 60,
   "id": "cd7454bc-c0dd-41e3-9743-6aade67fd526",
   "metadata": {},
   "outputs": [
    {
     "data": {
      "text/plain": [
       "cuisines\n",
       "others    113\n",
       "Name: count, dtype: int64"
      ]
     },
     "execution_count": 60,
     "metadata": {},
     "output_type": "execute_result"
    }
   ],
   "source": [
    "cuisines = df['cuisines'].value_counts(ascending  = False)\n",
    "\n",
    "\n",
    "cuisines_lessthan100 = cuisines[cuisines<100]\n",
    "\n",
    "\n",
    "\n",
    "def handle_cuisines(value):\n",
    "    if(value in cuisines_lessthan100):\n",
    "        return 'others'\n",
    "    else:\n",
    "        return value\n",
    "        \n",
    "df['cuisines'] = df['cuisines'].apply(handle_cuisines)\n",
    "df['cuisines'].value_counts()\n"
   ]
  },
  {
   "cell_type": "code",
   "execution_count": 61,
   "id": "4b9eb5fd-6005-4f70-aa17-97ffc2577475",
   "metadata": {},
   "outputs": [
    {
     "data": {
      "text/html": [
       "<div>\n",
       "<style scoped>\n",
       "    .dataframe tbody tr th:only-of-type {\n",
       "        vertical-align: middle;\n",
       "    }\n",
       "\n",
       "    .dataframe tbody tr th {\n",
       "        vertical-align: top;\n",
       "    }\n",
       "\n",
       "    .dataframe thead th {\n",
       "        text-align: right;\n",
       "    }\n",
       "</style>\n",
       "<table border=\"1\" class=\"dataframe\">\n",
       "  <thead>\n",
       "    <tr style=\"text-align: right;\">\n",
       "      <th></th>\n",
       "      <th>name</th>\n",
       "      <th>online_order</th>\n",
       "      <th>book_table</th>\n",
       "      <th>rate</th>\n",
       "      <th>votes</th>\n",
       "      <th>location</th>\n",
       "      <th>rest_type</th>\n",
       "      <th>cuisines</th>\n",
       "      <th>Cost2plates</th>\n",
       "      <th>Type</th>\n",
       "    </tr>\n",
       "  </thead>\n",
       "  <tbody>\n",
       "    <tr>\n",
       "      <th>0</th>\n",
       "      <td>Spice Elephant</td>\n",
       "      <td>Yes</td>\n",
       "      <td>No</td>\n",
       "      <td>4.1</td>\n",
       "      <td>787</td>\n",
       "      <td>others</td>\n",
       "      <td>others</td>\n",
       "      <td>others</td>\n",
       "      <td>800.0</td>\n",
       "      <td>Buffet</td>\n",
       "    </tr>\n",
       "    <tr>\n",
       "      <th>1</th>\n",
       "      <td>San Churro Cafe</td>\n",
       "      <td>Yes</td>\n",
       "      <td>No</td>\n",
       "      <td>3.8</td>\n",
       "      <td>918</td>\n",
       "      <td>others</td>\n",
       "      <td>others</td>\n",
       "      <td>others</td>\n",
       "      <td>800.0</td>\n",
       "      <td>Buffet</td>\n",
       "    </tr>\n",
       "    <tr>\n",
       "      <th>2</th>\n",
       "      <td>Addhuri Udupi Bhojana</td>\n",
       "      <td>No</td>\n",
       "      <td>No</td>\n",
       "      <td>3.7</td>\n",
       "      <td>88</td>\n",
       "      <td>others</td>\n",
       "      <td>others</td>\n",
       "      <td>others</td>\n",
       "      <td>300.0</td>\n",
       "      <td>Buffet</td>\n",
       "    </tr>\n",
       "    <tr>\n",
       "      <th>3</th>\n",
       "      <td>Cafe Shuffle</td>\n",
       "      <td>Yes</td>\n",
       "      <td>Yes</td>\n",
       "      <td>4.2</td>\n",
       "      <td>150</td>\n",
       "      <td>others</td>\n",
       "      <td>others</td>\n",
       "      <td>others</td>\n",
       "      <td>600.0</td>\n",
       "      <td>Cafes</td>\n",
       "    </tr>\n",
       "    <tr>\n",
       "      <th>4</th>\n",
       "      <td>The Coffee Shack</td>\n",
       "      <td>Yes</td>\n",
       "      <td>Yes</td>\n",
       "      <td>4.2</td>\n",
       "      <td>164</td>\n",
       "      <td>others</td>\n",
       "      <td>others</td>\n",
       "      <td>others</td>\n",
       "      <td>500.0</td>\n",
       "      <td>Cafes</td>\n",
       "    </tr>\n",
       "  </tbody>\n",
       "</table>\n",
       "</div>"
      ],
      "text/plain": [
       "                    name online_order book_table  rate  votes location  \\\n",
       "0         Spice Elephant          Yes         No   4.1    787   others   \n",
       "1        San Churro Cafe          Yes         No   3.8    918   others   \n",
       "2  Addhuri Udupi Bhojana           No         No   3.7     88   others   \n",
       "3           Cafe Shuffle          Yes        Yes   4.2    150   others   \n",
       "4       The Coffee Shack          Yes        Yes   4.2    164   others   \n",
       "\n",
       "  rest_type cuisines  Cost2plates    Type  \n",
       "0    others   others        800.0  Buffet  \n",
       "1    others   others        800.0  Buffet  \n",
       "2    others   others        300.0  Buffet  \n",
       "3    others   others        600.0   Cafes  \n",
       "4    others   others        500.0   Cafes  "
      ]
     },
     "execution_count": 61,
     "metadata": {},
     "output_type": "execute_result"
    }
   ],
   "source": [
    "df.head()"
   ]
  },
  {
   "cell_type": "markdown",
   "id": "793639a1-651e-41a1-b784-62e3ecd323d1",
   "metadata": {},
   "source": [
    "Data is Clean, Lets jump to Visualization"
   ]
  },
  {
   "cell_type": "markdown",
   "id": "6451a7c8-c33d-40c0-86d0-db41a9656d3e",
   "metadata": {},
   "source": [
    "Count Plot of various Locations"
   ]
  },
  {
   "cell_type": "code",
   "execution_count": 62,
   "id": "6b71e0ba-6520-4f71-9c90-c8b14c290fa1",
   "metadata": {},
   "outputs": [
    {
     "data": {
      "text/plain": [
       "(array([  0.,  20.,  40.,  60.,  80., 100., 120.]),\n",
       " [Text(0.0, 0, '0'),\n",
       "  Text(20.0, 0, '20'),\n",
       "  Text(40.0, 0, '40'),\n",
       "  Text(60.0, 0, '60'),\n",
       "  Text(80.0, 0, '80'),\n",
       "  Text(100.0, 0, '100'),\n",
       "  Text(120.0, 0, '120')])"
      ]
     },
     "execution_count": 62,
     "metadata": {},
     "output_type": "execute_result"
    },
    {
     "data": {
      "image/png": "[encoded data removed]",
      "text/plain": [
       "<Figure size 1600x1000 with 1 Axes>"
      ]
     },
     "metadata": {},
     "output_type": "display_data"
    }
   ],
   "source": [
    "plt.figure(figsize = (16,10))\n",
    "ax = sns.countplot(df['location'])\n",
    "plt.xticks(rotation=90)"
   ]
  },
  {
   "cell_type": "markdown",
   "id": "32c995c8-0203-4d5d-98c6-e0c3015c5c58",
   "metadata": {},
   "source": [
    "Visualizing Online Order"
   ]
  },
  {
   "cell_type": "code",
   "execution_count": 63,
   "id": "2ae450c0-45ec-4b4e-b925-7d72da55f1ed",
   "metadata": {},
   "outputs": [
    {
     "data": {
      "text/plain": [
       "<Axes: xlabel='count', ylabel='online_order'>"
      ]
     },
     "execution_count": 63,
     "metadata": {},
     "output_type": "execute_result"
    },
    {
     "data": {
      "image/png": "[encoded data removed]",
      "text/plain": [
       "<Figure size 600x600 with 1 Axes>"
      ]
     },
     "metadata": {},
     "output_type": "display_data"
    }
   ],
   "source": [
    "plt.figure(figsize=(6, 6))\n",
    "sns.countplot(y='online_order', data=df)"
   ]
  },
  {
   "cell_type": "markdown",
   "id": "213638ba-7035-4d30-aa76-b8009817e485",
   "metadata": {},
   "source": [
    "Visualizing Book Table"
   ]
  },
  {
   "cell_type": "code",
   "execution_count": 64,
   "id": "d936fbf4-de98-409c-8e88-61e9e75230a5",
   "metadata": {},
   "outputs": [
    {
     "name": "stderr",
     "output_type": "stream",
     "text": [
      "C:\\Users\\hp\\AppData\\Local\\Temp\\ipykernel_20020\\222089420.py:2: FutureWarning: \n",
      "\n",
      "Passing `palette` without assigning `hue` is deprecated and will be removed in v0.14.0. Assign the `y` variable to `hue` and set `legend=False` for the same effect.\n",
      "\n",
      "  sns.countplot(df['book_table'], palette = 'rainbow')\n"
     ]
    },
    {
     "data": {
      "text/plain": [
       "<Axes: xlabel='count', ylabel='book_table'>"
      ]
     },
     "execution_count": 64,
     "metadata": {},
     "output_type": "execute_result"
    },
    {
     "data": {
      "image/png": "[encoded data removed]",
      "text/plain": [
       "<Figure size 600x600 with 1 Axes>"
      ]
     },
     "metadata": {},
     "output_type": "display_data"
    }
   ],
   "source": [
    "plt.figure(figsize = (6,6))\n",
    "sns.countplot(df['book_table'], palette = 'rainbow')"
   ]
  },
  {
   "cell_type": "markdown",
   "id": "29490695-b50a-4a9d-8f86-2e1e5f7de6a8",
   "metadata": {},
   "source": [
    "Visualizing Online Order vs Rate"
   ]
  },
  {
   "cell_type": "code",
   "execution_count": 65,
   "id": "9c9d67b5-12ef-40be-8165-1979d3c1a10e",
   "metadata": {},
   "outputs": [
    {
     "data": {
      "text/plain": [
       "<Axes: xlabel='online_order', ylabel='rate'>"
      ]
     },
     "execution_count": 65,
     "metadata": {},
     "output_type": "execute_result"
    },
    {
     "data": {
      "image/png": "[encoded data removed]",
      "text/plain": [
       "<Figure size 600x600 with 1 Axes>"
      ]
     },
     "metadata": {},
     "output_type": "display_data"
    }
   ],
   "source": [
    "plt.figure(figsize = (6,6))\n",
    "sns.boxplot(x = 'online_order', y = 'rate', data = df)"
   ]
  },
  {
   "cell_type": "markdown",
   "id": "9fb70c4e-9f0e-4b08-a1fa-5c78ec344179",
   "metadata": {},
   "source": [
    "Visualizing Book Table vs Rate"
   ]
  },
  {
   "cell_type": "code",
   "execution_count": 66,
   "id": "31093600-8e19-453d-a629-7a63ab10f1e7",
   "metadata": {},
   "outputs": [
    {
     "data": {
      "text/plain": [
       "<Axes: xlabel='book_table', ylabel='rate'>"
      ]
     },
     "execution_count": 66,
     "metadata": {},
     "output_type": "execute_result"
    },
    {
     "data": {
      "image/png": "[encoded data removed]",
      "text/plain": [
       "<Figure size 600x600 with 1 Axes>"
      ]
     },
     "metadata": {},
     "output_type": "display_data"
    }
   ],
   "source": [
    "plt.figure(figsize = (6, 6))\n",
    "sns.boxplot(x = 'book_table', y = 'rate', data = df)"
   ]
  },
  {
   "cell_type": "markdown",
   "id": "bba0cb33-ea3d-401f-9637-d8f7585d66f4",
   "metadata": {},
   "source": [
    "Visualizing Online Order Facility, Location Wise"
   ]
  },
  {
   "cell_type": "code",
   "execution_count": 95,
   "id": "1e05bbf9-3271-47db-8232-12a47c1e860b",
   "metadata": {},
   "outputs": [
    {
     "data": {
      "image/png": "[encoded data removed]",
      "text/plain": [
       "<Figure size 1400x800 with 1 Axes>"
      ]
     },
     "metadata": {},
     "output_type": "display_data"
    }
   ],
   "source": [
    "plt.figure(figsize=(14, 8))\n",
    "sns.boxplot(x='Type', y='rate', hue='Type', data=df, palette='inferno', legend=False)\n",
    "plt.xticks(rotation=45)\n",
    "plt.title('Boxplot of Rate by Type (Colored)')\n",
    "plt.show()"
   ]
  },
  {
   "cell_type": "code",
   "execution_count": 68,
   "id": "d34d30eb-98f3-4de7-955a-68206e03f79e",
   "metadata": {},
   "outputs": [
    {
     "data": {
      "text/plain": [
       "<Axes: xlabel='location'>"
      ]
     },
     "execution_count": 68,
     "metadata": {},
     "output_type": "execute_result"
    },
    {
     "data": {
      "image/png": "[encoded data removed]",
      "text/plain": [
       "<Figure size 1500x800 with 1 Axes>"
      ]
     },
     "metadata": {},
     "output_type": "display_data"
    }
   ],
   "source": []
  },
  {
   "cell_type": "markdown",
   "id": "ee46c7f5-c082-457f-8fb8-2d59872db8e9",
   "metadata": {},
   "source": [
    "Visualizing Types of Restaurents vs Rate"
   ]
  },
  {
   "cell_type": "code",
   "execution_count": 69,
   "id": "dca2bb0e-256d-4fc6-bdd8-b74019e0c979",
   "metadata": {},
   "outputs": [
    {
     "name": "stderr",
     "output_type": "stream",
     "text": [
      "C:\\Users\\hp\\AppData\\Local\\Temp\\ipykernel_20020\\2234948669.py:2: FutureWarning: \n",
      "\n",
      "Passing `palette` without assigning `hue` is deprecated and will be removed in v0.14.0. Assign the `x` variable to `hue` and set `legend=False` for the same effect.\n",
      "\n",
      "  sns.boxplot(x = 'Type', y = 'rate', data = df, palette = 'inferno')\n"
     ]
    },
    {
     "data": {
      "text/plain": [
       "<Axes: xlabel='Type', ylabel='rate'>"
      ]
     },
     "execution_count": 69,
     "metadata": {},
     "output_type": "execute_result"
    },
    {
     "data": {
      "image/png": "[encoded data removed]",
      "text/plain": [
       "<Figure size 1400x800 with 1 Axes>"
      ]
     },
     "metadata": {},
     "output_type": "display_data"
    }
   ],
   "source": [
    "plt.figure(figsize = (14, 8))\n",
    "sns.boxplot(x = 'Type', y = 'rate', data = df, palette = 'inferno')"
   ]
  },
  {
   "cell_type": "markdown",
   "id": "4ec25ec0-38bf-4ac8-9efe-2ea5a028c6c3",
   "metadata": {},
   "source": [
    "Grouping Types of Restaurents, location wise"
   ]
  },
  {
   "cell_type": "code",
   "execution_count": 94,
   "id": "7a63c2ee-c162-42af-b652-4917d0d73a25",
   "metadata": {},
   "outputs": [
    {
     "data": {
      "text/html": [
       "<div>\n",
       "<style scoped>\n",
       "    .dataframe tbody tr th:only-of-type {\n",
       "        vertical-align: middle;\n",
       "    }\n",
       "\n",
       "    .dataframe tbody tr th {\n",
       "        vertical-align: top;\n",
       "    }\n",
       "\n",
       "    .dataframe thead th {\n",
       "        text-align: right;\n",
       "    }\n",
       "</style>\n",
       "<table border=\"1\" class=\"dataframe\">\n",
       "  <thead>\n",
       "    <tr style=\"text-align: right;\">\n",
       "      <th>Type</th>\n",
       "      <th>Buffet</th>\n",
       "      <th>Cafes</th>\n",
       "      <th>Delivery</th>\n",
       "    </tr>\n",
       "    <tr>\n",
       "      <th>location</th>\n",
       "      <th></th>\n",
       "      <th></th>\n",
       "      <th></th>\n",
       "    </tr>\n",
       "  </thead>\n",
       "  <tbody>\n",
       "    <tr>\n",
       "      <th>others</th>\n",
       "      <td>3</td>\n",
       "      <td>14</td>\n",
       "      <td>96</td>\n",
       "    </tr>\n",
       "  </tbody>\n",
       "</table>\n",
       "</div>"
      ],
      "text/plain": [
       "Type      Buffet  Cafes  Delivery\n",
       "location                         \n",
       "others         3     14        96"
      ]
     },
     "execution_count": 94,
     "metadata": {},
     "output_type": "execute_result"
    }
   ],
   "source": [
    "df3 = df.groupby(['location', 'Type'])['name'].count()\n",
    "df3.to_csv('location_Type.csv')\n",
    "df3 = pd.read_csv('location_Type.csv')\n",
    "df3 = pd.pivot_table(df3, values='name', index='location', columns='Type', fill_value=0, aggfunc='sum')\n",
    "df3"
   ]
  },
  {
   "cell_type": "code",
   "execution_count": 71,
   "id": "936a0bb2-81f6-4078-a583-65e694b0a6f4",
   "metadata": {},
   "outputs": [
    {
     "data": {
      "text/plain": [
       "<Axes: xlabel='location'>"
      ]
     },
     "execution_count": 71,
     "metadata": {},
     "output_type": "execute_result"
    },
    {
     "data": {
      "image/png": "[encoded data removed]",
      "text/plain": [
       "<Figure size 3600x800 with 1 Axes>"
      ]
     },
     "metadata": {},
     "output_type": "display_data"
    }
   ],
   "source": [
    "df3.plot(kind = 'bar', figsize = (36,8))"
   ]
  },
  {
   "cell_type": "markdown",
   "id": "c48bc16e-83a6-4a54-9f9e-ae883f047e25",
   "metadata": {},
   "source": [
    "No. of Votes, Location Wise"
   ]
  },
  {
   "cell_type": "code",
   "execution_count": 72,
   "id": "f62eef8f-d839-4bdf-91f4-3925a722412d",
   "metadata": {},
   "outputs": [
    {
     "data": {
      "text/html": [
       "<div>\n",
       "<style scoped>\n",
       "    .dataframe tbody tr th:only-of-type {\n",
       "        vertical-align: middle;\n",
       "    }\n",
       "\n",
       "    .dataframe tbody tr th {\n",
       "        vertical-align: top;\n",
       "    }\n",
       "\n",
       "    .dataframe thead th {\n",
       "        text-align: right;\n",
       "    }\n",
       "</style>\n",
       "<table border=\"1\" class=\"dataframe\">\n",
       "  <thead>\n",
       "    <tr style=\"text-align: right;\">\n",
       "      <th></th>\n",
       "      <th>votes</th>\n",
       "    </tr>\n",
       "    <tr>\n",
       "      <th>location</th>\n",
       "      <th></th>\n",
       "    </tr>\n",
       "  </thead>\n",
       "  <tbody>\n",
       "    <tr>\n",
       "      <th>others</th>\n",
       "      <td>24568</td>\n",
       "    </tr>\n",
       "  </tbody>\n",
       "</table>\n",
       "</div>"
      ],
      "text/plain": [
       "          votes\n",
       "location       \n",
       "others    24568"
      ]
     },
     "execution_count": 72,
     "metadata": {},
     "output_type": "execute_result"
    }
   ],
   "source": [
    "df4 = df[['location', 'votes']]\n",
    "df4.drop_duplicates()\n",
    "df5 = df4.groupby(['location'])['votes'].sum()\n",
    "df5 = df5.to_frame()\n",
    "df5 = df5.sort_values('votes', ascending=False)\n",
    "df5.head()"
   ]
  },
  {
   "cell_type": "code",
   "execution_count": 76,
   "id": "38a3d37d-df87-42a1-ae88-f3e6381fdd8f",
   "metadata": {},
   "outputs": [
    {
     "data": {
      "text/plain": [
       "([0], [Text(0, 0, 'others')])"
      ]
     },
     "execution_count": 76,
     "metadata": {},
     "output_type": "execute_result"
    },
    {
     "data": {
      "image/png": "[encoded data removed]",
      "text/plain": [
       "<Figure size 1500x800 with 1 Axes>"
      ]
     },
     "metadata": {},
     "output_type": "display_data"
    }
   ],
   "source": [
    "plt.figure(figsize=(15, 8))\n",
    "sns.barplot(x=df5.index, y=df5['votes'])\n",
    "plt.xticks(rotation=90)\n"
   ]
  },
  {
   "cell_type": "code",
   "execution_count": 75,
   "id": "1a6ef042-df37-466a-ab3e-7676a3f5e6cf",
   "metadata": {},
   "outputs": [
    {
     "data": {
      "text/html": [
       "<div>\n",
       "<style scoped>\n",
       "    .dataframe tbody tr th:only-of-type {\n",
       "        vertical-align: middle;\n",
       "    }\n",
       "\n",
       "    .dataframe tbody tr th {\n",
       "        vertical-align: top;\n",
       "    }\n",
       "\n",
       "    .dataframe thead th {\n",
       "        text-align: right;\n",
       "    }\n",
       "</style>\n",
       "<table border=\"1\" class=\"dataframe\">\n",
       "  <thead>\n",
       "    <tr style=\"text-align: right;\">\n",
       "      <th></th>\n",
       "      <th>name</th>\n",
       "      <th>online_order</th>\n",
       "      <th>book_table</th>\n",
       "      <th>rate</th>\n",
       "      <th>votes</th>\n",
       "      <th>location</th>\n",
       "      <th>rest_type</th>\n",
       "      <th>cuisines</th>\n",
       "      <th>Cost2plates</th>\n",
       "      <th>Type</th>\n",
       "    </tr>\n",
       "  </thead>\n",
       "  <tbody>\n",
       "    <tr>\n",
       "      <th>0</th>\n",
       "      <td>Spice Elephant</td>\n",
       "      <td>Yes</td>\n",
       "      <td>No</td>\n",
       "      <td>4.1</td>\n",
       "      <td>787</td>\n",
       "      <td>others</td>\n",
       "      <td>others</td>\n",
       "      <td>others</td>\n",
       "      <td>800.0</td>\n",
       "      <td>Buffet</td>\n",
       "    </tr>\n",
       "    <tr>\n",
       "      <th>1</th>\n",
       "      <td>San Churro Cafe</td>\n",
       "      <td>Yes</td>\n",
       "      <td>No</td>\n",
       "      <td>3.8</td>\n",
       "      <td>918</td>\n",
       "      <td>others</td>\n",
       "      <td>others</td>\n",
       "      <td>others</td>\n",
       "      <td>800.0</td>\n",
       "      <td>Buffet</td>\n",
       "    </tr>\n",
       "    <tr>\n",
       "      <th>2</th>\n",
       "      <td>Addhuri Udupi Bhojana</td>\n",
       "      <td>No</td>\n",
       "      <td>No</td>\n",
       "      <td>3.7</td>\n",
       "      <td>88</td>\n",
       "      <td>others</td>\n",
       "      <td>others</td>\n",
       "      <td>others</td>\n",
       "      <td>300.0</td>\n",
       "      <td>Buffet</td>\n",
       "    </tr>\n",
       "    <tr>\n",
       "      <th>3</th>\n",
       "      <td>Cafe Shuffle</td>\n",
       "      <td>Yes</td>\n",
       "      <td>Yes</td>\n",
       "      <td>4.2</td>\n",
       "      <td>150</td>\n",
       "      <td>others</td>\n",
       "      <td>others</td>\n",
       "      <td>others</td>\n",
       "      <td>600.0</td>\n",
       "      <td>Cafes</td>\n",
       "    </tr>\n",
       "    <tr>\n",
       "      <th>4</th>\n",
       "      <td>The Coffee Shack</td>\n",
       "      <td>Yes</td>\n",
       "      <td>Yes</td>\n",
       "      <td>4.2</td>\n",
       "      <td>164</td>\n",
       "      <td>others</td>\n",
       "      <td>others</td>\n",
       "      <td>others</td>\n",
       "      <td>500.0</td>\n",
       "      <td>Cafes</td>\n",
       "    </tr>\n",
       "  </tbody>\n",
       "</table>\n",
       "</div>"
      ],
      "text/plain": [
       "                    name online_order book_table  rate  votes location  \\\n",
       "0         Spice Elephant          Yes         No   4.1    787   others   \n",
       "1        San Churro Cafe          Yes         No   3.8    918   others   \n",
       "2  Addhuri Udupi Bhojana           No         No   3.7     88   others   \n",
       "3           Cafe Shuffle          Yes        Yes   4.2    150   others   \n",
       "4       The Coffee Shack          Yes        Yes   4.2    164   others   \n",
       "\n",
       "  rest_type cuisines  Cost2plates    Type  \n",
       "0    others   others        800.0  Buffet  \n",
       "1    others   others        800.0  Buffet  \n",
       "2    others   others        300.0  Buffet  \n",
       "3    others   others        600.0   Cafes  \n",
       "4    others   others        500.0   Cafes  "
      ]
     },
     "execution_count": 75,
     "metadata": {},
     "output_type": "execute_result"
    }
   ],
   "source": [
    "df.head()"
   ]
  },
  {
   "cell_type": "markdown",
   "id": "d5be0ccb-0fcd-4f33-87af-9c90a1e1160a",
   "metadata": {},
   "source": [
    "Visualizing Top Cuisines"
   ]
  },
  {
   "cell_type": "code",
   "execution_count": 90,
   "id": "cc44e690-92b4-43e3-b1ec-d86a0bb3e99f",
   "metadata": {},
   "outputs": [],
   "source": [
    "df6 = df[['cuisines', 'votes']].drop_duplicates()\n",
    "df7 = df6.groupby('cuisines')['votes'].sum()"
   ]
  },
  {
   "cell_type": "code",
   "execution_count": 91,
   "id": "7714a18b-96d1-4525-ad74-44149c823be1",
   "metadata": {},
   "outputs": [],
   "source": [
    "df7 = df7.to_frame().sort_values('votes', ascending=False).reset_index()"
   ]
  },
  {
   "cell_type": "code",
   "execution_count": 92,
   "id": "3f510b5d-01d0-412f-9914-cf7167c87539",
   "metadata": {},
   "outputs": [
    {
     "name": "stdout",
     "output_type": "stream",
     "text": [
      "(1, 2)\n",
      "  cuisines  votes\n",
      "0   others  23405\n"
     ]
    }
   ],
   "source": [
    "print(df7.shape)\n",
    "print(df7.head())"
   ]
  },
  {
   "cell_type": "code",
   "execution_count": 93,
   "id": "54d9535b-0814-45ee-a68a-8162658cbce3",
   "metadata": {},
   "outputs": [
    {
     "data": {
      "image/png": "[encoded data removed]",
      "text/plain": [
       "<Figure size 1500x800 with 1 Axes>"
      ]
     },
     "metadata": {},
     "output_type": "display_data"
    }
   ],
   "source": [
    "plt.figure(figsize=(15, 8))\n",
    "sns.barplot(x='cuisines', y='votes', data=df7)\n",
    "plt.xticks(rotation=90)\n",
    "plt.title(\"Total Votes per Cuisine\")\n",
    "plt.xlabel(\"Cuisine\")\n",
    "plt.ylabel(\"Total Votes\")\n",
    "plt.tight_layout()\n",
    "plt.show()"
   ]
  }
 ],
 "metadata": {
  "kernelspec": {
   "display_name": "Python 3 (ipykernel)",
   "language": "python",
   "name": "python3"
  },
  "language_info": {
   "codemirror_mode": {
    "name": "ipython",
    "version": 3
   },
   "file_extension": ".py",
   "mimetype": "text/x-python",
   "name": "python",
   "nbconvert_exporter": "python",
   "pygments_lexer": "ipython3",
   "version": "3.12.7"
  }
 },
 "nbformat": 4,
 "nbformat_minor": 5
}
